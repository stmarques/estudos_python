{
  "nbformat": 4,
  "nbformat_minor": 0,
  "metadata": {
    "colab": {
      "name": "Fase 2",
      "provenance": [],
      "collapsed_sections": [],
      "include_colab_link": true
    },
    "kernelspec": {
      "name": "python3",
      "display_name": "Python 3"
    },
    "language_info": {
      "name": "python"
    }
  },
  "cells": [
    {
      "cell_type": "markdown",
      "metadata": {
        "id": "view-in-github",
        "colab_type": "text"
      },
      "source": [
        "<a href=\"https://colab.research.google.com/github/stmarques/python/blob/main/Fase_2.ipynb\" target=\"_parent\"><img src=\"https://colab.research.google.com/assets/colab-badge.svg\" alt=\"Open In Colab\"/></a>"
      ]
    },
    {
      "cell_type": "code",
      "execution_count": null,
      "metadata": {
        "id": "muenosEz1W4c",
        "colab": {
          "base_uri": "https://localhost:8080/"
        },
        "outputId": "aded2c1e-dd32-449d-e2c4-e4f53edcddc2"
      },
      "outputs": [
        {
          "name": "stdout",
          "output_type": "stream",
          "text": [
            "Digite seu nome: Amanda\n"
          ]
        }
      ],
      "source": [
        "nome = input (\"Digite seu nome: \")\n"
      ]
    },
    {
      "cell_type": "code",
      "source": [
        "idade = input (\"Digite sua idade: \")"
      ],
      "metadata": {
        "colab": {
          "base_uri": "https://localhost:8080/"
        },
        "id": "1yOxjwSL24f_",
        "outputId": "21a2db93-298d-41bd-df77-843a4bb56003"
      },
      "execution_count": null,
      "outputs": [
        {
          "name": "stdout",
          "output_type": "stream",
          "text": [
            "Digite sua idade: 25\n"
          ]
        }
      ]
    },
    {
      "cell_type": "markdown",
      "source": [
        "meu amor é foda"
      ],
      "metadata": {
        "id": "mWIlNxJ93W1-"
      }
    },
    {
      "cell_type": "code",
      "source": [
        "print (nome + \" possui \" + idade + \" anos.\")"
      ],
      "metadata": {
        "colab": {
          "base_uri": "https://localhost:8080/"
        },
        "id": "k85zP7eb3rEx",
        "outputId": "7b5fea13-e773-4990-f383-b67ae04ed0a6"
      },
      "execution_count": null,
      "outputs": [
        {
          "output_type": "stream",
          "name": "stdout",
          "text": [
            "Amanda possui 25 anos.\n"
          ]
        }
      ]
    },
    {
      "cell_type": "code",
      "source": [
        "ano_nascimento = input (\"Digite seu ano de nascimento: \")"
      ],
      "metadata": {
        "colab": {
          "base_uri": "https://localhost:8080/"
        },
        "id": "Ku0v-avH4cTS",
        "outputId": "161fcc71-ddd2-4cff-ec81-b72fae017b75"
      },
      "execution_count": null,
      "outputs": [
        {
          "name": "stdout",
          "output_type": "stream",
          "text": [
            "Digite seu ano de nascimento: 1996\n"
          ]
        }
      ]
    },
    {
      "cell_type": "code",
      "source": [
        "ano_atual = input (\"Digite o ano atual: \")"
      ],
      "metadata": {
        "colab": {
          "base_uri": "https://localhost:8080/"
        },
        "id": "MWo7UMfj4pjB",
        "outputId": "96780681-9103-48e5-ace1-e8540a39b7e3"
      },
      "execution_count": null,
      "outputs": [
        {
          "name": "stdout",
          "output_type": "stream",
          "text": [
            "Digite o ano atual: 2022\n"
          ]
        }
      ]
    },
    {
      "cell_type": "code",
      "source": [
        "idade = int(ano_atual) - int(ano_nascimento)\n",
        "print(idade)"
      ],
      "metadata": {
        "colab": {
          "base_uri": "https://localhost:8080/"
        },
        "id": "rc7vWsHe5NIw",
        "outputId": "6ec96d0b-b0cd-41d8-cfaa-f5223faeb22a"
      },
      "execution_count": null,
      "outputs": [
        {
          "output_type": "stream",
          "name": "stdout",
          "text": [
            "26\n"
          ]
        }
      ]
    },
    {
      "cell_type": "code",
      "source": [
        "type(ano_nascimento)"
      ],
      "metadata": {
        "id": "EXY1s7OI6m8t",
        "outputId": "add8f977-5f67-4416-e1fc-1508a7d85980",
        "colab": {
          "base_uri": "https://localhost:8080/"
        }
      },
      "execution_count": null,
      "outputs": [
        {
          "output_type": "execute_result",
          "data": {
            "text/plain": [
              "str"
            ]
          },
          "metadata": {},
          "execution_count": 16
        }
      ]
    }
  ]
}